{
  "cells": [
    {
      "cell_type": "markdown",
      "metadata": {
        "colab_type": "text",
        "id": "view-in-github"
      },
      "source": [
        "<a href=\"https://colab.research.google.com/github/vatsbalar22/stock-prediction-DL/blob/main/colab_model.ipynb\" target=\"_parent\"><img src=\"https://colab.research.google.com/assets/colab-badge.svg\" alt=\"Open In Colab\"/></a>"
      ]
    },
    {
      "cell_type": "markdown",
      "metadata": {
        "id": "jKp-1FswpOTs"
      },
      "source": [
        "# Model train with Deep Learnig"
      ]
    },
    {
      "cell_type": "markdown",
      "metadata": {
        "id": "bYfWzAsFpWwp"
      },
      "source": [
        "# Data extract through API"
      ]
    },
    {
      "cell_type": "code",
      "execution_count": 2,
      "metadata": {
        "id": "5OMbqM-1VG_s"
      },
      "outputs": [],
      "source": [
        "from alpha_vantage.timeseries import TimeSeries\n",
        "api_key = 'RDW63LUED9U3S55M'\n",
        "symbol = 'RELIANCE.BSE'\n",
        "\n",
        "def get_stock_data(symbol, api_key):\n",
        "    ts = TimeSeries(key=api_key, output_format='pandas')\n",
        "    data, meta_data = ts.get_daily(symbol=symbol, outputsize='full')\n",
        "    return data\n",
        "def prepare_data(data):\n",
        "    data = data[['1. open', '2. high', '3. low', '4. close', '5. volume']]\n",
        "    data.columns = ['Open', 'High', 'Low', 'Close', 'Volume']\n",
        "    return data\n",
        "\n",
        "data = get_stock_data(symbol,api_key)\n",
        "df = prepare_data(data)\n",
        "\n"
      ]
    },
    {
      "cell_type": "code",
      "execution_count": 3,
      "metadata": {
        "colab": {
          "base_uri": "https://localhost:8080/",
          "height": 423
        },
        "id": "EkLtJcD0VSNH",
        "outputId": "15d7a8ee-d674-47bb-ea3d-608bd54e16e0"
      },
      "outputs": [
        {
          "data": {
            "text/html": [
              "<div>\n",
              "<style scoped>\n",
              "    .dataframe tbody tr th:only-of-type {\n",
              "        vertical-align: middle;\n",
              "    }\n",
              "\n",
              "    .dataframe tbody tr th {\n",
              "        vertical-align: top;\n",
              "    }\n",
              "\n",
              "    .dataframe thead th {\n",
              "        text-align: right;\n",
              "    }\n",
              "</style>\n",
              "<table border=\"1\" class=\"dataframe\">\n",
              "  <thead>\n",
              "    <tr style=\"text-align: right;\">\n",
              "      <th></th>\n",
              "      <th>date</th>\n",
              "      <th>Open</th>\n",
              "      <th>High</th>\n",
              "      <th>Low</th>\n",
              "      <th>Close</th>\n",
              "      <th>Volume</th>\n",
              "    </tr>\n",
              "  </thead>\n",
              "  <tbody>\n",
              "    <tr>\n",
              "      <th>0</th>\n",
              "      <td>2024-02-23</td>\n",
              "      <td>2971.4000</td>\n",
              "      <td>2996.1500</td>\n",
              "      <td>2965.2500</td>\n",
              "      <td>2986.3500</td>\n",
              "      <td>653001.0</td>\n",
              "    </tr>\n",
              "    <tr>\n",
              "      <th>1</th>\n",
              "      <td>2024-02-22</td>\n",
              "      <td>2937.9500</td>\n",
              "      <td>2969.1000</td>\n",
              "      <td>2916.0000</td>\n",
              "      <td>2963.3500</td>\n",
              "      <td>212597.0</td>\n",
              "    </tr>\n",
              "    <tr>\n",
              "      <th>2</th>\n",
              "      <td>2024-02-21</td>\n",
              "      <td>2943.8500</td>\n",
              "      <td>2977.0000</td>\n",
              "      <td>2916.1500</td>\n",
              "      <td>2938.2000</td>\n",
              "      <td>103405.0</td>\n",
              "    </tr>\n",
              "    <tr>\n",
              "      <th>3</th>\n",
              "      <td>2024-02-20</td>\n",
              "      <td>2949.9000</td>\n",
              "      <td>2949.9000</td>\n",
              "      <td>2924.0000</td>\n",
              "      <td>2940.7500</td>\n",
              "      <td>104430.0</td>\n",
              "    </tr>\n",
              "    <tr>\n",
              "      <th>4</th>\n",
              "      <td>2024-02-19</td>\n",
              "      <td>2921.3500</td>\n",
              "      <td>2958.8000</td>\n",
              "      <td>2907.5500</td>\n",
              "      <td>2946.1500</td>\n",
              "      <td>163441.0</td>\n",
              "    </tr>\n",
              "    <tr>\n",
              "      <th>...</th>\n",
              "      <td>...</td>\n",
              "      <td>...</td>\n",
              "      <td>...</td>\n",
              "      <td>...</td>\n",
              "      <td>...</td>\n",
              "      <td>...</td>\n",
              "    </tr>\n",
              "    <tr>\n",
              "      <th>4714</th>\n",
              "      <td>2005-01-07</td>\n",
              "      <td>359.8269</td>\n",
              "      <td>373.1159</td>\n",
              "      <td>359.5202</td>\n",
              "      <td>368.5840</td>\n",
              "      <td>16969845.0</td>\n",
              "    </tr>\n",
              "    <tr>\n",
              "      <th>4715</th>\n",
              "      <td>2005-01-06</td>\n",
              "      <td>357.7824</td>\n",
              "      <td>365.6195</td>\n",
              "      <td>356.1468</td>\n",
              "      <td>358.4297</td>\n",
              "      <td>13446517.0</td>\n",
              "    </tr>\n",
              "    <tr>\n",
              "      <th>4716</th>\n",
              "      <td>2005-01-05</td>\n",
              "      <td>358.1230</td>\n",
              "      <td>363.9158</td>\n",
              "      <td>351.8194</td>\n",
              "      <td>361.1217</td>\n",
              "      <td>16954266.0</td>\n",
              "    </tr>\n",
              "    <tr>\n",
              "      <th>4717</th>\n",
              "      <td>2005-01-04</td>\n",
              "      <td>364.5972</td>\n",
              "      <td>371.3782</td>\n",
              "      <td>360.8491</td>\n",
              "      <td>361.7351</td>\n",
              "      <td>10059943.0</td>\n",
              "    </tr>\n",
              "    <tr>\n",
              "      <th>4718</th>\n",
              "      <td>2005-01-03</td>\n",
              "      <td>354.4090</td>\n",
              "      <td>371.0715</td>\n",
              "      <td>354.4090</td>\n",
              "      <td>370.1173</td>\n",
              "      <td>11842921.0</td>\n",
              "    </tr>\n",
              "  </tbody>\n",
              "</table>\n",
              "<p>4719 rows × 6 columns</p>\n",
              "</div>"
            ],
            "text/plain": [
              "           date       Open       High        Low      Close      Volume\n",
              "0    2024-02-23  2971.4000  2996.1500  2965.2500  2986.3500    653001.0\n",
              "1    2024-02-22  2937.9500  2969.1000  2916.0000  2963.3500    212597.0\n",
              "2    2024-02-21  2943.8500  2977.0000  2916.1500  2938.2000    103405.0\n",
              "3    2024-02-20  2949.9000  2949.9000  2924.0000  2940.7500    104430.0\n",
              "4    2024-02-19  2921.3500  2958.8000  2907.5500  2946.1500    163441.0\n",
              "...         ...        ...        ...        ...        ...         ...\n",
              "4714 2005-01-07   359.8269   373.1159   359.5202   368.5840  16969845.0\n",
              "4715 2005-01-06   357.7824   365.6195   356.1468   358.4297  13446517.0\n",
              "4716 2005-01-05   358.1230   363.9158   351.8194   361.1217  16954266.0\n",
              "4717 2005-01-04   364.5972   371.3782   360.8491   361.7351  10059943.0\n",
              "4718 2005-01-03   354.4090   371.0715   354.4090   370.1173  11842921.0\n",
              "\n",
              "[4719 rows x 6 columns]"
            ]
          },
          "execution_count": 3,
          "metadata": {},
          "output_type": "execute_result"
        }
      ],
      "source": [
        "df =df.reset_index()\n",
        "df\n"
      ]
    },
    {
      "cell_type": "code",
      "execution_count": 4,
      "metadata": {
        "colab": {
          "base_uri": "https://localhost:8080/"
        },
        "id": "pMNJNxvmVlEn",
        "outputId": "72efcfa7-33c0-4a5c-8972-33a4215ea760"
      },
      "outputs": [
        {
          "name": "stdout",
          "output_type": "stream",
          "text": [
            "           date       Open       High        Low      Close      Volume  \\\n",
            "0    2024-02-23  2971.4000  2996.1500  2965.2500  2986.3500    653001.0   \n",
            "1    2024-02-22  2937.9500  2969.1000  2916.0000  2963.3500    212597.0   \n",
            "2    2024-02-21  2943.8500  2977.0000  2916.1500  2938.2000    103405.0   \n",
            "3    2024-02-20  2949.9000  2949.9000  2924.0000  2940.7500    104430.0   \n",
            "4    2024-02-19  2921.3500  2958.8000  2907.5500  2946.1500    163441.0   \n",
            "...         ...        ...        ...        ...        ...         ...   \n",
            "4714 2005-01-07   359.8269   373.1159   359.5202   368.5840  16969845.0   \n",
            "4715 2005-01-06   357.7824   365.6195   356.1468   358.4297  13446517.0   \n",
            "4716 2005-01-05   358.1230   363.9158   351.8194   361.1217  16954266.0   \n",
            "4717 2005-01-04   364.5972   371.3782   360.8491   361.7351  10059943.0   \n",
            "4718 2005-01-03   354.4090   371.0715   354.4090   370.1173  11842921.0   \n",
            "\n",
            "      Market_High_Indicator  \n",
            "0                         0  \n",
            "1                         0  \n",
            "2                         1  \n",
            "3                         1  \n",
            "4                         1  \n",
            "...                     ...  \n",
            "4714                      1  \n",
            "4715                      0  \n",
            "4716                      1  \n",
            "4717                      1  \n",
            "4718                      1  \n",
            "\n",
            "[4719 rows x 7 columns]\n"
          ]
        }
      ],
      "source": [
        "# Assuming 'df' is your DataFrame containing the stock data\n",
        "\n",
        "# Add a new column 'Market_High_Indicator' to indicate if the market high was reached\n",
        "df['Market_High_Indicator'] = (df['High'] > df['Close'].shift(1)).astype(int)\n",
        "\n",
        "# Display the DataFrame with the new column\n",
        "print(df)\n"
      ]
    },
    {
      "cell_type": "markdown",
      "metadata": {
        "id": "hP5PraX5pdxI"
      },
      "source": [
        "#Data visualization"
      ]
    },
    {
      "cell_type": "code",
      "execution_count": 5,
      "metadata": {
        "colab": {
          "base_uri": "https://localhost:8080/",
          "height": 564
        },
        "id": "Qwn6rrv4Vm8H",
        "outputId": "89f8e36e-f277-4e18-f9fa-f08f7c4e88bb"
      },
      "outputs": [
        {
          "data": {
            "image/png": "[encoded data removed]",
            "text/plain": [
              "<Figure size 1200x600 with 1 Axes>"
            ]
          },
          "metadata": {},
          "output_type": "display_data"
        }
      ],
      "source": [
        "import matplotlib.pyplot as plt\n",
        "\n",
        "# Plotting the closing prices using numerical index\n",
        "plt.figure(figsize=(12,6))\n",
        "plt.plot(df['date'], df['Close'], label='Close Price', color='blue')\n",
        "plt.title('Stock Close Price Over Time')\n",
        "plt.xlabel('Index')\n",
        "plt.ylabel('Close Price')\n",
        "plt.legend()\n",
        "plt.show()\n"
      ]
    },
    {
      "cell_type": "markdown",
      "metadata": {
        "id": "7vQOMyBkqNQR"
      },
      "source": [
        "# Data Analysis"
      ]
    },
    {
      "cell_type": "code",
      "execution_count": 6,
      "metadata": {
        "colab": {
          "base_uri": "https://localhost:8080/",
          "height": 300
        },
        "id": "v5s7EsWFqEDw",
        "outputId": "3314620e-6452-4b99-c45b-4c3a2b2daeb0"
      },
      "outputs": [
        {
          "data": {
            "text/html": [
              "<div>\n",
              "<style scoped>\n",
              "    .dataframe tbody tr th:only-of-type {\n",
              "        vertical-align: middle;\n",
              "    }\n",
              "\n",
              "    .dataframe tbody tr th {\n",
              "        vertical-align: top;\n",
              "    }\n",
              "\n",
              "    .dataframe thead th {\n",
              "        text-align: right;\n",
              "    }\n",
              "</style>\n",
              "<table border=\"1\" class=\"dataframe\">\n",
              "  <thead>\n",
              "    <tr style=\"text-align: right;\">\n",
              "      <th></th>\n",
              "      <th>date</th>\n",
              "      <th>Open</th>\n",
              "      <th>High</th>\n",
              "      <th>Low</th>\n",
              "      <th>Close</th>\n",
              "      <th>Volume</th>\n",
              "      <th>Market_High_Indicator</th>\n",
              "    </tr>\n",
              "  </thead>\n",
              "  <tbody>\n",
              "    <tr>\n",
              "      <th>count</th>\n",
              "      <td>4719</td>\n",
              "      <td>4719.000000</td>\n",
              "      <td>4719.000000</td>\n",
              "      <td>4719.000000</td>\n",
              "      <td>4719.000000</td>\n",
              "      <td>4.719000e+03</td>\n",
              "      <td>4719.000000</td>\n",
              "    </tr>\n",
              "    <tr>\n",
              "      <th>mean</th>\n",
              "      <td>2014-07-30 04:20:35.855054080</td>\n",
              "      <td>1272.697955</td>\n",
              "      <td>1289.089143</td>\n",
              "      <td>1255.928026</td>\n",
              "      <td>1272.013847</td>\n",
              "      <td>2.974912e+06</td>\n",
              "      <td>0.740835</td>\n",
              "    </tr>\n",
              "    <tr>\n",
              "      <th>min</th>\n",
              "      <td>2005-01-03 00:00:00</td>\n",
              "      <td>344.152500</td>\n",
              "      <td>347.798500</td>\n",
              "      <td>339.518500</td>\n",
              "      <td>341.699200</td>\n",
              "      <td>0.000000e+00</td>\n",
              "      <td>0.000000</td>\n",
              "    </tr>\n",
              "    <tr>\n",
              "      <th>25%</th>\n",
              "      <td>2009-10-18 00:00:00</td>\n",
              "      <td>823.465850</td>\n",
              "      <td>830.553750</td>\n",
              "      <td>813.141750</td>\n",
              "      <td>822.417500</td>\n",
              "      <td>4.208825e+05</td>\n",
              "      <td>0.000000</td>\n",
              "    </tr>\n",
              "    <tr>\n",
              "      <th>50%</th>\n",
              "      <td>2014-07-24 00:00:00</td>\n",
              "      <td>989.198300</td>\n",
              "      <td>1004.148800</td>\n",
              "      <td>975.706300</td>\n",
              "      <td>991.021400</td>\n",
              "      <td>8.670090e+05</td>\n",
              "      <td>1.000000</td>\n",
              "    </tr>\n",
              "    <tr>\n",
              "      <th>75%</th>\n",
              "      <td>2019-05-18 12:00:00</td>\n",
              "      <td>1809.519550</td>\n",
              "      <td>1830.258600</td>\n",
              "      <td>1784.176000</td>\n",
              "      <td>1807.126300</td>\n",
              "      <td>2.533722e+06</td>\n",
              "      <td>1.000000</td>\n",
              "    </tr>\n",
              "    <tr>\n",
              "      <th>max</th>\n",
              "      <td>2024-02-23 00:00:00</td>\n",
              "      <td>2971.400000</td>\n",
              "      <td>2996.150000</td>\n",
              "      <td>2965.250000</td>\n",
              "      <td>2986.350000</td>\n",
              "      <td>8.021841e+08</td>\n",
              "      <td>1.000000</td>\n",
              "    </tr>\n",
              "    <tr>\n",
              "      <th>std</th>\n",
              "      <td>NaN</td>\n",
              "      <td>611.275318</td>\n",
              "      <td>619.452077</td>\n",
              "      <td>603.381443</td>\n",
              "      <td>611.444986</td>\n",
              "      <td>2.067644e+07</td>\n",
              "      <td>0.438223</td>\n",
              "    </tr>\n",
              "  </tbody>\n",
              "</table>\n",
              "</div>"
            ],
            "text/plain": [
              "                                date         Open         High          Low  \\\n",
              "count                           4719  4719.000000  4719.000000  4719.000000   \n",
              "mean   2014-07-30 04:20:35.855054080  1272.697955  1289.089143  1255.928026   \n",
              "min              2005-01-03 00:00:00   344.152500   347.798500   339.518500   \n",
              "25%              2009-10-18 00:00:00   823.465850   830.553750   813.141750   \n",
              "50%              2014-07-24 00:00:00   989.198300  1004.148800   975.706300   \n",
              "75%              2019-05-18 12:00:00  1809.519550  1830.258600  1784.176000   \n",
              "max              2024-02-23 00:00:00  2971.400000  2996.150000  2965.250000   \n",
              "std                              NaN   611.275318   619.452077   603.381443   \n",
              "\n",
              "             Close        Volume  Market_High_Indicator  \n",
              "count  4719.000000  4.719000e+03            4719.000000  \n",
              "mean   1272.013847  2.974912e+06               0.740835  \n",
              "min     341.699200  0.000000e+00               0.000000  \n",
              "25%     822.417500  4.208825e+05               0.000000  \n",
              "50%     991.021400  8.670090e+05               1.000000  \n",
              "75%    1807.126300  2.533722e+06               1.000000  \n",
              "max    2986.350000  8.021841e+08               1.000000  \n",
              "std     611.444986  2.067644e+07               0.438223  "
            ]
          },
          "execution_count": 6,
          "metadata": {},
          "output_type": "execute_result"
        }
      ],
      "source": [
        "df.describe()"
      ]
    },
    {
      "cell_type": "code",
      "execution_count": 7,
      "metadata": {
        "colab": {
          "base_uri": "https://localhost:8080/"
        },
        "id": "rWvelJsFqHly",
        "outputId": "d600abda-4712-4171-ca0f-8d82ba0eb1af"
      },
      "outputs": [
        {
          "name": "stdout",
          "output_type": "stream",
          "text": [
            "<class 'pandas.core.frame.DataFrame'>\n",
            "RangeIndex: 4719 entries, 0 to 4718\n",
            "Data columns (total 7 columns):\n",
            " #   Column                 Non-Null Count  Dtype         \n",
            "---  ------                 --------------  -----         \n",
            " 0   date                   4719 non-null   datetime64[ns]\n",
            " 1   Open                   4719 non-null   float64       \n",
            " 2   High                   4719 non-null   float64       \n",
            " 3   Low                    4719 non-null   float64       \n",
            " 4   Close                  4719 non-null   float64       \n",
            " 5   Volume                 4719 non-null   float64       \n",
            " 6   Market_High_Indicator  4719 non-null   int64         \n",
            "dtypes: datetime64[ns](1), float64(5), int64(1)\n",
            "memory usage: 258.2 KB\n"
          ]
        }
      ],
      "source": [
        "df.info()"
      ]
    },
    {
      "cell_type": "code",
      "execution_count": 8,
      "metadata": {
        "colab": {
          "base_uri": "https://localhost:8080/",
          "height": 897
        },
        "id": "n2sUplq4VrlP",
        "outputId": "c0398c85-8efe-4e7e-cc8b-69b8cc57c7a5"
      },
      "outputs": [
        {
          "data": {
            "image/png": "[encoded data removed]",
            "text/plain": [
              "<Figure size 1000x800 with 2 Axes>"
            ]
          },
          "metadata": {},
          "output_type": "display_data"
        }
      ],
      "source": [
        "import seaborn as sns\n",
        "\n",
        "# Compute the correlation matrix\n",
        "correlation_matrix = df.corr()\n",
        "\n",
        "# Plot the correlation matrix as a heatmap\n",
        "plt.figure(figsize=(10, 8))\n",
        "sns.heatmap(correlation_matrix, annot=True, cmap='coolwarm', fmt=\".2f\")\n",
        "plt.title('Correlation Plot of Stock Data Features')\n",
        "plt.show()\n"
      ]
    },
    {
      "cell_type": "code",
      "execution_count": 9,
      "metadata": {
        "id": "p9hVfx90Vwe_"
      },
      "outputs": [],
      "source": [
        "# Drop the 'Date' column from the DataFrame\n",
        "df = df.drop(columns=['date'])\n",
        "\n",
        "# Split the data into features (X) and target (y)\n",
        "X = df.drop(columns=['Market_High_Indicator'])  # Features are all columns except 'Market_High_Indicator'\n",
        "y = df['Market_High_Indicator']  # Target column is 'Market_High_Indicator'\n",
        "\n",
        "# Now, you can use X and y for further processing, such as training and testing your model\n"
      ]
    },
    {
      "cell_type": "markdown",
      "metadata": {
        "id": "ax-bcUmYqT9B"
      },
      "source": [
        "#Model training"
      ]
    },
    {
      "cell_type": "code",
      "execution_count": 10,
      "metadata": {
        "id": "pUZOu4Y6V7y_"
      },
      "outputs": [],
      "source": [
        "from sklearn.model_selection import train_test_split\n",
        "\n",
        "# Split the data into features (X) and target (y)\n",
        "X = df.drop(columns=['Market_High_Indicator'])  # Features are all columns except 'Market_High_Indicator'\n",
        "y = df['Market_High_Indicator']  # Target column is 'Market_High_Indicator'\n",
        "\n",
        "# Split the data into training and testing sets (e.g., 80% training, 20% testing)\n",
        "X_train, X_test, y_train, y_test = train_test_split(X, y, test_size=0.2, random_state=42)\n",
        "\n",
        "# Now, you can use X_train, X_test, y_train, and y_test for training and evaluating your model"
      ]
    },
    {
      "cell_type": "code",
      "execution_count": 11,
      "metadata": {
        "colab": {
          "base_uri": "https://localhost:8080/"
        },
        "id": "y1VTJiMwYEsg",
        "outputId": "d5ff170f-522c-436b-948f-99ea1d7604aa"
      },
      "outputs": [
        {
          "name": "stderr",
          "output_type": "stream",
          "text": [
            "2024-02-26 04:05:46.271557: E external/local_xla/xla/stream_executor/cuda/cuda_dnn.cc:9261] Unable to register cuDNN factory: Attempting to register factory for plugin cuDNN when one has already been registered\n",
            "2024-02-26 04:05:46.271972: E external/local_xla/xla/stream_executor/cuda/cuda_fft.cc:607] Unable to register cuFFT factory: Attempting to register factory for plugin cuFFT when one has already been registered\n",
            "2024-02-26 04:05:46.676810: E external/local_xla/xla/stream_executor/cuda/cuda_blas.cc:1515] Unable to register cuBLAS factory: Attempting to register factory for plugin cuBLAS when one has already been registered\n",
            "2024-02-26 04:05:47.478514: I tensorflow/core/platform/cpu_feature_guard.cc:182] This TensorFlow binary is optimized to use available CPU instructions in performance-critical operations.\n",
            "To enable the following instructions: AVX2 FMA, in other operations, rebuild TensorFlow with the appropriate compiler flags.\n",
            "2024-02-26 04:05:51.633774: W tensorflow/compiler/tf2tensorrt/utils/py_utils.cc:38] TF-TRT Warning: Could not find TensorRT\n"
          ]
        },
        {
          "name": "stdout",
          "output_type": "stream",
          "text": [
            "Epoch 1/10\n",
            "95/95 [==============================] - 1s 3ms/step - loss: 9322.3809 - accuracy: 0.6222 - val_loss: 1662.3596 - val_accuracy: 0.7285\n",
            "Epoch 2/10\n",
            "95/95 [==============================] - 0s 2ms/step - loss: 17798.9980 - accuracy: 0.6632 - val_loss: 66612.4844 - val_accuracy: 0.7285\n",
            "Epoch 3/10\n",
            "95/95 [==============================] - 0s 2ms/step - loss: 28903.8359 - accuracy: 0.6778 - val_loss: 13926.4873 - val_accuracy: 0.7285\n",
            "Epoch 4/10\n",
            "95/95 [==============================] - 0s 2ms/step - loss: 2066.1331 - accuracy: 0.5930 - val_loss: 4941.8999 - val_accuracy: 0.7338\n",
            "Epoch 5/10\n",
            "95/95 [==============================] - 0s 1ms/step - loss: 27813.6582 - accuracy: 0.6636 - val_loss: 1636.8553 - val_accuracy: 0.6795\n",
            "Epoch 6/10\n",
            "95/95 [==============================] - 0s 1ms/step - loss: 1305.9092 - accuracy: 0.5788 - val_loss: 2765.7676 - val_accuracy: 0.7285\n",
            "Epoch 7/10\n",
            "95/95 [==============================] - 0s 2ms/step - loss: 1752.2334 - accuracy: 0.6288 - val_loss: 4865.6113 - val_accuracy: 0.2715\n",
            "Epoch 8/10\n",
            "95/95 [==============================] - 0s 2ms/step - loss: 27489.8047 - accuracy: 0.6649 - val_loss: 3083.6716 - val_accuracy: 0.7245\n",
            "Epoch 9/10\n",
            "95/95 [==============================] - 0s 3ms/step - loss: 1282.2227 - accuracy: 0.5930 - val_loss: 2519.6980 - val_accuracy: 0.7338\n",
            "Epoch 10/10\n",
            "95/95 [==============================] - 0s 2ms/step - loss: 2053.0686 - accuracy: 0.6298 - val_loss: 2561.1572 - val_accuracy: 0.2715\n"
          ]
        },
        {
          "data": {
            "text/plain": [
              "<keras.src.callbacks.History at 0x7f490072cd90>"
            ]
          },
          "execution_count": 11,
          "metadata": {},
          "output_type": "execute_result"
        }
      ],
      "source": [
        "from keras.models import Sequential\n",
        "from keras.layers import Dense\n",
        "\n",
        "# Define the model architecture\n",
        "model = Sequential([\n",
        "    Dense(64, activation='relu', input_shape=(X_train.shape[1],)),\n",
        "    Dense(64, activation='relu'),\n",
        "    Dense(1, activation='sigmoid')\n",
        "])\n",
        "\n",
        "# Compile the model\n",
        "model.compile(optimizer='adam', loss='binary_crossentropy', metrics=['accuracy'])\n",
        "\n",
        "# Train the model\n",
        "model.fit(X_train, y_train, epochs=10, batch_size=32, validation_split=0.2)\n"
      ]
    },
    {
      "cell_type": "markdown",
      "metadata": {
        "id": "8TP4iaLRqbfD"
      },
      "source": [
        "#Predict next day high"
      ]
    },
    {
      "cell_type": "code",
      "execution_count": 12,
      "metadata": {
        "colab": {
          "base_uri": "https://localhost:8080/"
        },
        "id": "91v84cQ4YLu6",
        "outputId": "c0fff34d-c8d9-4754-cf13-6e7f8ac7e4a7"
      },
      "outputs": [
        {
          "name": "stdout",
          "output_type": "stream",
          "text": [
            "1/1 [==============================] - 0s 62ms/step\n",
            "Predicted Market High Indicator for the Next Day: 0\n"
          ]
        }
      ],
      "source": [
        "# Predict the next day's market high indicator\n",
        "last_row_features = df.drop(columns=['Market_High_Indicator']).iloc[-1]\n",
        "last_row_features = last_row_features.values.reshape(1, -1)\n",
        "next_day_prediction = model.predict(last_row_features)\n",
        "\n",
        "# Convert the prediction to binary (0 or 1)\n",
        "next_day_prediction_binary = 1 if next_day_prediction > 0.5 else 0\n",
        "\n",
        "print(\"Predicted Market High Indicator for the Next Day:\", next_day_prediction_binary)"
      ]
    },
    {
      "cell_type": "markdown",
      "metadata": {
        "id": "j_HWO0L3YrKA"
      },
      "source": []
    },
    {
      "cell_type": "code",
      "execution_count": 20,
      "metadata": {
        "id": "fWvsrLwxWLJW"
      },
      "outputs": [],
      "source": [
        "# from sklearn.linear_model import LogisticRegression\n",
        "\n",
        "# # Initialize the Logistic Regression model\n",
        "# model = LogisticRegression()\n",
        "\n",
        "# # Train the model on the training data\n",
        "# model.fit(X_train, y_train)\n",
        "\n",
        "# # Once trained, you can use the model to make predictions on the test data\n",
        "# y_pred = model.predict(X_test)\n",
        "\n"
      ]
    },
    {
      "cell_type": "code",
      "execution_count": 19,
      "metadata": {
        "id": "V0giVFT8WNZA"
      },
      "outputs": [],
      "source": [
        "# from sklearn.metrics import accuracy_score\n",
        "\n",
        "# # Calculate accuracy score\n",
        "# accuracy = accuracy_score(y_test, y_pred)\n",
        "# print(\"Accuracy:\", accuracy)\n"
      ]
    },
    {
      "cell_type": "code",
      "execution_count": 18,
      "metadata": {
        "id": "cv3mTsvJWmR3"
      },
      "outputs": [],
      "source": [
        "# # Extract features from the last row of your dataset\n",
        "# last_row_features = df.drop(columns=['Market_High_Indicator']).iloc[-1]\n",
        "\n",
        "# # Reshape the features array as scikit-learn expects a 2D array\n",
        "# last_row_features = last_row_features.values.reshape(1, -1)\n",
        "\n",
        "# # Predict the next day's market high indicator\n",
        "# next_day_prediction = model.predict(last_row_features)\n",
        "\n",
        "# print(\"Predicted Market High Indicator for the Next Day:\", next_day_prediction[0])\n"
      ]
    },
    {
      "cell_type": "code",
      "execution_count": 17,
      "metadata": {
        "id": "1Ho6ejZhXevW"
      },
      "outputs": [],
      "source": [
        "# # Predict the next day's market high indicator\n",
        "# last_row_features = df.drop(columns=['Market_High_Indicator']).iloc[-1]\n",
        "# last_row_features = last_row_features.values.reshape(1, -1)\n",
        "# next_day_prediction = model.predict(last_row_features)\n",
        "\n",
        "# # Convert the prediction to binary (0 or 1)\n",
        "# next_day_prediction_binary = 1 if next_day_prediction > 0.5 else 0\n",
        "\n",
        "# print(\"Predicted Market High Indicator for the Next Day:\", next_day_prediction_binary)\n"
      ]
    },
    {
      "cell_type": "code",
      "execution_count": null,
      "metadata": {
        "id": "1tA8pYAtqhVN"
      },
      "outputs": [],
      "source": []
    }
  ],
  "metadata": {
    "colab": {
      "include_colab_link": true,
      "provenance": []
    },
    "kernelspec": {
      "display_name": "Python 3",
      "name": "python3"
    },
    "language_info": {
      "codemirror_mode": {
        "name": "ipython",
        "version": 3
      },
      "file_extension": ".py",
      "mimetype": "text/x-python",
      "name": "python",
      "nbconvert_exporter": "python",
      "pygments_lexer": "ipython3",
      "version": "3.10.13"
    }
  },
  "nbformat": 4,
  "nbformat_minor": 0
}
