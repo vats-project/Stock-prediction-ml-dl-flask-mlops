{
  "cells": [
    {
      "cell_type": "markdown",
      "metadata": {
        "colab_type": "text",
        "id": "view-in-github"
      },
      "source": [
        "<a href=\"https://colab.research.google.com/github/vatsbalar22/stock-prediction-DL/blob/main/colab_model.ipynb\" target=\"_parent\"><img src=\"https://colab.research.google.com/assets/colab-badge.svg\" alt=\"Open In Colab\"/></a>"
      ]
    },
    {
      "cell_type": "markdown",
      "metadata": {
        "id": "jKp-1FswpOTs"
      },
      "source": [
        "# Model train with Deep Learnig"
      ]
    },
    {
      "cell_type": "markdown",
      "metadata": {
        "id": "bYfWzAsFpWwp"
      },
      "source": [
        "# Data extract through API"
      ]
    },
    {
      "cell_type": "code",
      "execution_count": 2,
      "metadata": {
        "id": "5OMbqM-1VG_s"
      },
      "outputs": [],
      "source": [
        "# from alpha_vantage.timeseries import TimeSeries\n",
        "# api_key = 'RDW63LUED9U3S55M'\n",
        "# symbol = 'RELIANCE.BSE'\n",
        "\n",
        "# def get_stock_data(symbol, api_key):\n",
        "#     ts = TimeSeries(key=api_key, output_format='pandas')\n",
        "#     data, meta_data = ts.get_daily(symbol=symbol, outputsize='full')\n",
        "#     return data\n",
        "# def prepare_data(data):\n",
        "#     data = data[['1. open', '2. high', '3. low', '4. close', '5. volume']]\n",
        "#     data.columns = ['Open', 'High', 'Low', 'Close', 'Volume']\n",
        "#     return data\n",
        "\n",
        "# data = get_stock_data(symbol,api_key)\n",
        "# df = prepare_data(data)\n",
        "\n"
      ]
    },
    {
      "cell_type": "code",
      "execution_count": 3,
      "metadata": {},
      "outputs": [
        {
          "name": "stderr",
          "output_type": "stream",
          "text": [
            "[*********************100%%**********************]  1 of 1 completed\n"
          ]
        }
      ],
      "source": [
        "# Get accurate data using yfinance library\n",
        "# Give symbol and start and end date\n",
        "\n",
        "import yfinance as yf\n",
        "from datetime import datetime\n",
        "\n",
        "symbol='RELIANCE.BO'\n",
        "start_date = \"2005-01-03\"\n",
        "end_date = datetime.today().strftime('%Y-%m-%d')\n",
        "df = yf.download(symbol ,start=start_date , end= end_date)\n"
      ]
    },
    {
      "cell_type": "code",
      "execution_count": 4,
      "metadata": {
        "colab": {
          "base_uri": "https://localhost:8080/",
          "height": 423
        },
        "id": "EkLtJcD0VSNH",
        "outputId": "15d7a8ee-d674-47bb-ea3d-608bd54e16e0"
      },
      "outputs": [
        {
          "data": {
            "text/html": [
              "<div>\n",
              "<style scoped>\n",
              "    .dataframe tbody tr th:only-of-type {\n",
              "        vertical-align: middle;\n",
              "    }\n",
              "\n",
              "    .dataframe tbody tr th {\n",
              "        vertical-align: top;\n",
              "    }\n",
              "\n",
              "    .dataframe thead th {\n",
              "        text-align: right;\n",
              "    }\n",
              "</style>\n",
              "<table border=\"1\" class=\"dataframe\">\n",
              "  <thead>\n",
              "    <tr style=\"text-align: right;\">\n",
              "      <th></th>\n",
              "      <th>Date</th>\n",
              "      <th>Open</th>\n",
              "      <th>High</th>\n",
              "      <th>Low</th>\n",
              "      <th>Close</th>\n",
              "      <th>Adj Close</th>\n",
              "      <th>Volume</th>\n",
              "    </tr>\n",
              "  </thead>\n",
              "  <tbody>\n",
              "    <tr>\n",
              "      <th>0</th>\n",
              "      <td>2005-01-03</td>\n",
              "      <td>130.012497</td>\n",
              "      <td>136.125000</td>\n",
              "      <td>130.012497</td>\n",
              "      <td>135.774994</td>\n",
              "      <td>99.178886</td>\n",
              "      <td>11731288</td>\n",
              "    </tr>\n",
              "    <tr>\n",
              "      <th>1</th>\n",
              "      <td>2005-01-04</td>\n",
              "      <td>133.750000</td>\n",
              "      <td>136.237503</td>\n",
              "      <td>132.375000</td>\n",
              "      <td>132.699997</td>\n",
              "      <td>96.932732</td>\n",
              "      <td>9965116</td>\n",
              "    </tr>\n",
              "    <tr>\n",
              "      <th>2</th>\n",
              "      <td>2005-01-05</td>\n",
              "      <td>131.375000</td>\n",
              "      <td>133.500000</td>\n",
              "      <td>129.062500</td>\n",
              "      <td>132.475006</td>\n",
              "      <td>96.768379</td>\n",
              "      <td>16794452</td>\n",
              "    </tr>\n",
              "    <tr>\n",
              "      <th>3</th>\n",
              "      <td>2005-01-06</td>\n",
              "      <td>131.250000</td>\n",
              "      <td>134.125000</td>\n",
              "      <td>130.649994</td>\n",
              "      <td>131.487503</td>\n",
              "      <td>96.047020</td>\n",
              "      <td>13319768</td>\n",
              "    </tr>\n",
              "    <tr>\n",
              "      <th>4</th>\n",
              "      <td>2005-01-07</td>\n",
              "      <td>132.000000</td>\n",
              "      <td>136.875000</td>\n",
              "      <td>131.887497</td>\n",
              "      <td>135.212494</td>\n",
              "      <td>98.767998</td>\n",
              "      <td>16809884</td>\n",
              "    </tr>\n",
              "    <tr>\n",
              "      <th>...</th>\n",
              "      <td>...</td>\n",
              "      <td>...</td>\n",
              "      <td>...</td>\n",
              "      <td>...</td>\n",
              "      <td>...</td>\n",
              "      <td>...</td>\n",
              "      <td>...</td>\n",
              "    </tr>\n",
              "    <tr>\n",
              "      <th>4700</th>\n",
              "      <td>2024-02-28</td>\n",
              "      <td>2964.899902</td>\n",
              "      <td>2982.000000</td>\n",
              "      <td>2900.550049</td>\n",
              "      <td>2909.000000</td>\n",
              "      <td>2909.000000</td>\n",
              "      <td>64333</td>\n",
              "    </tr>\n",
              "    <tr>\n",
              "      <th>4701</th>\n",
              "      <td>2024-02-29</td>\n",
              "      <td>2931.050049</td>\n",
              "      <td>2958.000000</td>\n",
              "      <td>2909.550049</td>\n",
              "      <td>2924.750000</td>\n",
              "      <td>2924.750000</td>\n",
              "      <td>192376</td>\n",
              "    </tr>\n",
              "    <tr>\n",
              "      <th>4702</th>\n",
              "      <td>2024-03-01</td>\n",
              "      <td>2916.699951</td>\n",
              "      <td>2999.000000</td>\n",
              "      <td>2916.699951</td>\n",
              "      <td>2986.000000</td>\n",
              "      <td>2986.000000</td>\n",
              "      <td>544407</td>\n",
              "    </tr>\n",
              "    <tr>\n",
              "      <th>4703</th>\n",
              "      <td>2024-03-04</td>\n",
              "      <td>2981.000000</td>\n",
              "      <td>3024.800049</td>\n",
              "      <td>2975.050049</td>\n",
              "      <td>3011.600098</td>\n",
              "      <td>3011.600098</td>\n",
              "      <td>139795</td>\n",
              "    </tr>\n",
              "    <tr>\n",
              "      <th>4704</th>\n",
              "      <td>2024-03-05</td>\n",
              "      <td>3011.699951</td>\n",
              "      <td>3011.699951</td>\n",
              "      <td>2973.000000</td>\n",
              "      <td>2998.300049</td>\n",
              "      <td>2998.300049</td>\n",
              "      <td>70928</td>\n",
              "    </tr>\n",
              "  </tbody>\n",
              "</table>\n",
              "<p>4705 rows × 7 columns</p>\n",
              "</div>"
            ],
            "text/plain": [
              "           Date         Open         High          Low        Close  \\\n",
              "0    2005-01-03   130.012497   136.125000   130.012497   135.774994   \n",
              "1    2005-01-04   133.750000   136.237503   132.375000   132.699997   \n",
              "2    2005-01-05   131.375000   133.500000   129.062500   132.475006   \n",
              "3    2005-01-06   131.250000   134.125000   130.649994   131.487503   \n",
              "4    2005-01-07   132.000000   136.875000   131.887497   135.212494   \n",
              "...         ...          ...          ...          ...          ...   \n",
              "4700 2024-02-28  2964.899902  2982.000000  2900.550049  2909.000000   \n",
              "4701 2024-02-29  2931.050049  2958.000000  2909.550049  2924.750000   \n",
              "4702 2024-03-01  2916.699951  2999.000000  2916.699951  2986.000000   \n",
              "4703 2024-03-04  2981.000000  3024.800049  2975.050049  3011.600098   \n",
              "4704 2024-03-05  3011.699951  3011.699951  2973.000000  2998.300049   \n",
              "\n",
              "        Adj Close    Volume  \n",
              "0       99.178886  11731288  \n",
              "1       96.932732   9965116  \n",
              "2       96.768379  16794452  \n",
              "3       96.047020  13319768  \n",
              "4       98.767998  16809884  \n",
              "...           ...       ...  \n",
              "4700  2909.000000     64333  \n",
              "4701  2924.750000    192376  \n",
              "4702  2986.000000    544407  \n",
              "4703  3011.600098    139795  \n",
              "4704  2998.300049     70928  \n",
              "\n",
              "[4705 rows x 7 columns]"
            ]
          },
          "execution_count": 4,
          "metadata": {},
          "output_type": "execute_result"
        }
      ],
      "source": [
        "df =df.reset_index()\n",
        "df\n"
      ]
    },
    {
      "cell_type": "code",
      "execution_count": 5,
      "metadata": {
        "colab": {
          "base_uri": "https://localhost:8080/"
        },
        "id": "pMNJNxvmVlEn",
        "outputId": "72efcfa7-33c0-4a5c-8972-33a4215ea760"
      },
      "outputs": [],
      "source": [
        "# Add more features to improve accuracy and drop null value\n",
        "\n",
        "df['Tommorow']= df['Close'].shift(1)\n",
        "df.dropna(inplace=True)\n",
        "df['Target']=(df['Close']>df['Tommorow']).astype(int)"
      ]
    },
    {
      "cell_type": "markdown",
      "metadata": {
        "id": "hP5PraX5pdxI"
      },
      "source": [
        "#Data visualization"
      ]
    },
    {
      "cell_type": "code",
      "execution_count": 7,
      "metadata": {
        "colab": {
          "base_uri": "https://localhost:8080/",
          "height": 564
        },
        "id": "Qwn6rrv4Vm8H",
        "outputId": "89f8e36e-f277-4e18-f9fa-f08f7c4e88bb"
      },
      "outputs": [
        {
          "data": {
            "image/png": "[encoded data removed]",
            "text/plain": [
              "<Figure size 1200x600 with 1 Axes>"
            ]
          },
          "metadata": {},
          "output_type": "display_data"
        }
      ],
      "source": [
        "import matplotlib.pyplot as plt\n",
        "\n",
        "# Plotting the closing prices using numerical index\n",
        "plt.figure(figsize=(12,6))\n",
        "plt.plot(df['Date'], df['Close'], label='Close Price', color='blue')\n",
        "plt.title('Stock Close Price Over Time')\n",
        "plt.xlabel('Index')\n",
        "plt.ylabel('Close Price')\n",
        "plt.legend()\n",
        "plt.show()\n"
      ]
    },
    {
      "cell_type": "markdown",
      "metadata": {
        "id": "7vQOMyBkqNQR"
      },
      "source": [
        "# Data Analysis"
      ]
    },
    {
      "cell_type": "code",
      "execution_count": 8,
      "metadata": {
        "colab": {
          "base_uri": "https://localhost:8080/",
          "height": 300
        },
        "id": "v5s7EsWFqEDw",
        "outputId": "3314620e-6452-4b99-c45b-4c3a2b2daeb0"
      },
      "outputs": [
        {
          "data": {
            "text/html": [
              "<div>\n",
              "<style scoped>\n",
              "    .dataframe tbody tr th:only-of-type {\n",
              "        vertical-align: middle;\n",
              "    }\n",
              "\n",
              "    .dataframe tbody tr th {\n",
              "        vertical-align: top;\n",
              "    }\n",
              "\n",
              "    .dataframe thead th {\n",
              "        text-align: right;\n",
              "    }\n",
              "</style>\n",
              "<table border=\"1\" class=\"dataframe\">\n",
              "  <thead>\n",
              "    <tr style=\"text-align: right;\">\n",
              "      <th></th>\n",
              "      <th>Date</th>\n",
              "      <th>Open</th>\n",
              "      <th>High</th>\n",
              "      <th>Low</th>\n",
              "      <th>Close</th>\n",
              "      <th>Adj Close</th>\n",
              "      <th>Volume</th>\n",
              "      <th>Tommorow</th>\n",
              "      <th>Target</th>\n",
              "    </tr>\n",
              "  </thead>\n",
              "  <tbody>\n",
              "    <tr>\n",
              "      <th>count</th>\n",
              "      <td>4704</td>\n",
              "      <td>4704.000000</td>\n",
              "      <td>4704.000000</td>\n",
              "      <td>4704.000000</td>\n",
              "      <td>4704.000000</td>\n",
              "      <td>4704.000000</td>\n",
              "      <td>4.704000e+03</td>\n",
              "      <td>4704.000000</td>\n",
              "      <td>4704.000000</td>\n",
              "    </tr>\n",
              "    <tr>\n",
              "      <th>mean</th>\n",
              "      <td>2014-07-23 13:26:19.591836928</td>\n",
              "      <td>913.923684</td>\n",
              "      <td>924.323883</td>\n",
              "      <td>902.852379</td>\n",
              "      <td>913.140250</td>\n",
              "      <td>878.193738</td>\n",
              "      <td>2.951349e+06</td>\n",
              "      <td>912.531720</td>\n",
              "      <td>0.515094</td>\n",
              "    </tr>\n",
              "    <tr>\n",
              "      <th>min</th>\n",
              "      <td>2005-01-04 00:00:00</td>\n",
              "      <td>126.250000</td>\n",
              "      <td>127.587502</td>\n",
              "      <td>124.550003</td>\n",
              "      <td>125.349998</td>\n",
              "      <td>91.563812</td>\n",
              "      <td>4.087400e+04</td>\n",
              "      <td>125.349998</td>\n",
              "      <td>0.000000</td>\n",
              "    </tr>\n",
              "    <tr>\n",
              "      <th>25%</th>\n",
              "      <td>2009-10-15 18:00:00</td>\n",
              "      <td>422.693756</td>\n",
              "      <td>427.487503</td>\n",
              "      <td>417.250000</td>\n",
              "      <td>421.821869</td>\n",
              "      <td>375.993195</td>\n",
              "      <td>4.182222e+05</td>\n",
              "      <td>421.724998</td>\n",
              "      <td>0.000000</td>\n",
              "    </tr>\n",
              "    <tr>\n",
              "      <th>50%</th>\n",
              "      <td>2014-07-16 12:00:00</td>\n",
              "      <td>514.424988</td>\n",
              "      <td>520.774994</td>\n",
              "      <td>507.675003</td>\n",
              "      <td>513.962494</td>\n",
              "      <td>466.076645</td>\n",
              "      <td>8.616090e+05</td>\n",
              "      <td>513.862488</td>\n",
              "      <td>1.000000</td>\n",
              "    </tr>\n",
              "    <tr>\n",
              "      <th>75%</th>\n",
              "      <td>2019-05-08 06:00:00</td>\n",
              "      <td>1253.000000</td>\n",
              "      <td>1270.512482</td>\n",
              "      <td>1235.500000</td>\n",
              "      <td>1252.174988</td>\n",
              "      <td>1244.020660</td>\n",
              "      <td>2.513520e+06</td>\n",
              "      <td>1251.925018</td>\n",
              "      <td>1.000000</td>\n",
              "    </tr>\n",
              "    <tr>\n",
              "      <th>max</th>\n",
              "      <td>2024-03-05 00:00:00</td>\n",
              "      <td>3011.699951</td>\n",
              "      <td>3024.800049</td>\n",
              "      <td>2975.050049</td>\n",
              "      <td>3011.600098</td>\n",
              "      <td>3011.600098</td>\n",
              "      <td>7.946226e+08</td>\n",
              "      <td>3011.600098</td>\n",
              "      <td>1.000000</td>\n",
              "    </tr>\n",
              "    <tr>\n",
              "      <th>std</th>\n",
              "      <td>NaN</td>\n",
              "      <td>768.911830</td>\n",
              "      <td>775.932575</td>\n",
              "      <td>761.122810</td>\n",
              "      <td>768.232054</td>\n",
              "      <td>783.397197</td>\n",
              "      <td>2.051336e+07</td>\n",
              "      <td>767.713564</td>\n",
              "      <td>0.499825</td>\n",
              "    </tr>\n",
              "  </tbody>\n",
              "</table>\n",
              "</div>"
            ],
            "text/plain": [
              "                                Date         Open         High          Low  \\\n",
              "count                           4704  4704.000000  4704.000000  4704.000000   \n",
              "mean   2014-07-23 13:26:19.591836928   913.923684   924.323883   902.852379   \n",
              "min              2005-01-04 00:00:00   126.250000   127.587502   124.550003   \n",
              "25%              2009-10-15 18:00:00   422.693756   427.487503   417.250000   \n",
              "50%              2014-07-16 12:00:00   514.424988   520.774994   507.675003   \n",
              "75%              2019-05-08 06:00:00  1253.000000  1270.512482  1235.500000   \n",
              "max              2024-03-05 00:00:00  3011.699951  3024.800049  2975.050049   \n",
              "std                              NaN   768.911830   775.932575   761.122810   \n",
              "\n",
              "             Close    Adj Close        Volume     Tommorow       Target  \n",
              "count  4704.000000  4704.000000  4.704000e+03  4704.000000  4704.000000  \n",
              "mean    913.140250   878.193738  2.951349e+06   912.531720     0.515094  \n",
              "min     125.349998    91.563812  4.087400e+04   125.349998     0.000000  \n",
              "25%     421.821869   375.993195  4.182222e+05   421.724998     0.000000  \n",
              "50%     513.962494   466.076645  8.616090e+05   513.862488     1.000000  \n",
              "75%    1252.174988  1244.020660  2.513520e+06  1251.925018     1.000000  \n",
              "max    3011.600098  3011.600098  7.946226e+08  3011.600098     1.000000  \n",
              "std     768.232054   783.397197  2.051336e+07   767.713564     0.499825  "
            ]
          },
          "execution_count": 8,
          "metadata": {},
          "output_type": "execute_result"
        }
      ],
      "source": [
        "df.describe()"
      ]
    },
    {
      "cell_type": "code",
      "execution_count": 9,
      "metadata": {
        "colab": {
          "base_uri": "https://localhost:8080/"
        },
        "id": "rWvelJsFqHly",
        "outputId": "d600abda-4712-4171-ca0f-8d82ba0eb1af"
      },
      "outputs": [
        {
          "name": "stdout",
          "output_type": "stream",
          "text": [
            "<class 'pandas.core.frame.DataFrame'>\n",
            "Index: 4704 entries, 1 to 4704\n",
            "Data columns (total 9 columns):\n",
            " #   Column     Non-Null Count  Dtype         \n",
            "---  ------     --------------  -----         \n",
            " 0   Date       4704 non-null   datetime64[ns]\n",
            " 1   Open       4704 non-null   float64       \n",
            " 2   High       4704 non-null   float64       \n",
            " 3   Low        4704 non-null   float64       \n",
            " 4   Close      4704 non-null   float64       \n",
            " 5   Adj Close  4704 non-null   float64       \n",
            " 6   Volume     4704 non-null   int64         \n",
            " 7   Tommorow   4704 non-null   float64       \n",
            " 8   Target     4704 non-null   int64         \n",
            "dtypes: datetime64[ns](1), float64(6), int64(2)\n",
            "memory usage: 367.5 KB\n"
          ]
        }
      ],
      "source": [
        "df.info()"
      ]
    },
    {
      "cell_type": "code",
      "execution_count": 10,
      "metadata": {
        "colab": {
          "base_uri": "https://localhost:8080/",
          "height": 897
        },
        "id": "n2sUplq4VrlP",
        "outputId": "c0398c85-8efe-4e7e-cc8b-69b8cc57c7a5"
      },
      "outputs": [
        {
          "data": {
            "image/png": "[encoded data removed]",
            "text/plain": [
              "<Figure size 1000x800 with 2 Axes>"
            ]
          },
          "metadata": {},
          "output_type": "display_data"
        }
      ],
      "source": [
        "import seaborn as sns\n",
        "\n",
        "# Compute the correlation matrix\n",
        "correlation_matrix = df.corr()\n",
        "\n",
        "# Plot the correlation matrix as a heatmap\n",
        "plt.figure(figsize=(10, 8))\n",
        "sns.heatmap(correlation_matrix, annot=True, cmap='coolwarm', fmt=\".2f\")\n",
        "plt.title('Correlation Plot of Stock Data Features')\n",
        "plt.show()\n"
      ]
    },
    {
      "cell_type": "code",
      "execution_count": 11,
      "metadata": {
        "id": "p9hVfx90Vwe_"
      },
      "outputs": [],
      "source": [
        "# Drop the 'Date' column from the DataFrame\n",
        "df.drop(df.columns[[0,5]] , axis=1 , inplace=True)"
      ]
    },
    {
      "cell_type": "code",
      "execution_count": 12,
      "metadata": {},
      "outputs": [],
      "source": [
        "\n",
        "# Split the data into features (X) and target (y)\n",
        "x = df.drop(columns=['Target'])  # Features are all columns except 'Market_High_Indicator'\n",
        "y = df['Target']  # Target column is 'Market_High_Indicator'\n",
        "\n",
        "# Now, you can use X and y for further processing, such as training and testing your model"
      ]
    },
    {
      "cell_type": "markdown",
      "metadata": {
        "id": "ax-bcUmYqT9B"
      },
      "source": [
        "#Model training"
      ]
    },
    {
      "cell_type": "code",
      "execution_count": 13,
      "metadata": {
        "id": "pUZOu4Y6V7y_"
      },
      "outputs": [],
      "source": [
        "from sklearn.model_selection import train_test_split\n",
        "\n",
        "# Split the data into training and testing sets (e.g., 80% training, 20% testing)\n",
        "X_train, X_test, y_train, y_test = train_test_split(x, y, test_size=0.2, random_state=42)\n",
        "\n",
        "# Now, you can use X_train, X_test, y_train, and y_test for training and evaluating your model"
      ]
    },
    {
      "cell_type": "code",
      "execution_count": 14,
      "metadata": {},
      "outputs": [],
      "source": [
        "from sklearn.preprocessing import MinMaxScaler\n",
        "scale = MinMaxScaler()\n",
        "X_train_scale = scale.fit_transform(X_train)\n"
      ]
    },
    {
      "cell_type": "code",
      "execution_count": 15,
      "metadata": {
        "colab": {
          "base_uri": "https://localhost:8080/"
        },
        "id": "y1VTJiMwYEsg",
        "outputId": "d5ff170f-522c-436b-948f-99ea1d7604aa"
      },
      "outputs": [
        {
          "name": "stderr",
          "output_type": "stream",
          "text": [
            "2024-03-06 07:28:14.831427: E external/local_xla/xla/stream_executor/cuda/cuda_dnn.cc:9261] Unable to register cuDNN factory: Attempting to register factory for plugin cuDNN when one has already been registered\n",
            "2024-03-06 07:28:14.831532: E external/local_xla/xla/stream_executor/cuda/cuda_fft.cc:607] Unable to register cuFFT factory: Attempting to register factory for plugin cuFFT when one has already been registered\n",
            "2024-03-06 07:28:15.217592: E external/local_xla/xla/stream_executor/cuda/cuda_blas.cc:1515] Unable to register cuBLAS factory: Attempting to register factory for plugin cuBLAS when one has already been registered\n",
            "2024-03-06 07:28:16.020142: I tensorflow/core/platform/cpu_feature_guard.cc:182] This TensorFlow binary is optimized to use available CPU instructions in performance-critical operations.\n",
            "To enable the following instructions: AVX2 FMA, in other operations, rebuild TensorFlow with the appropriate compiler flags.\n",
            "2024-03-06 07:28:20.162234: W tensorflow/compiler/tf2tensorrt/utils/py_utils.cc:38] TF-TRT Warning: Could not find TensorRT\n"
          ]
        },
        {
          "name": "stdout",
          "output_type": "stream",
          "text": [
            "Epoch 1/10\n",
            "95/95 [==============================] - 1s 4ms/step - loss: 50307.8789 - accuracy: 0.4850 - val_loss: 32587.6992 - val_accuracy: 0.5100\n",
            "Epoch 2/10\n",
            "95/95 [==============================] - 0s 1ms/step - loss: 9535.6035 - accuracy: 0.4980 - val_loss: 98643.7188 - val_accuracy: 0.4900\n",
            "Epoch 3/10\n",
            "95/95 [==============================] - 0s 2ms/step - loss: 71083.9297 - accuracy: 0.4847 - val_loss: 8199.4492 - val_accuracy: 0.4980\n",
            "Epoch 4/10\n",
            "95/95 [==============================] - 0s 1ms/step - loss: 35170.2227 - accuracy: 0.5113 - val_loss: 18166.8535 - val_accuracy: 0.4900\n",
            "Epoch 5/10\n",
            "95/95 [==============================] - 0s 1ms/step - loss: 3624.2715 - accuracy: 0.5080 - val_loss: 193.1427 - val_accuracy: 0.5086\n",
            "Epoch 6/10\n",
            "95/95 [==============================] - 0s 1ms/step - loss: 27837.6816 - accuracy: 0.5093 - val_loss: 81163.6406 - val_accuracy: 0.4900\n",
            "Epoch 7/10\n",
            "95/95 [==============================] - 0s 2ms/step - loss: 11812.9492 - accuracy: 0.4987 - val_loss: 609.0194 - val_accuracy: 0.5033\n",
            "Epoch 8/10\n",
            "95/95 [==============================] - 0s 1ms/step - loss: 3324.3645 - accuracy: 0.5093 - val_loss: 149.5272 - val_accuracy: 0.5060\n",
            "Epoch 9/10\n",
            "95/95 [==============================] - 0s 1ms/step - loss: 35978.0781 - accuracy: 0.4774 - val_loss: 4932.8467 - val_accuracy: 0.5086\n",
            "Epoch 10/10\n",
            "95/95 [==============================] - 0s 1ms/step - loss: 9343.7197 - accuracy: 0.5043 - val_loss: 100667.8984 - val_accuracy: 0.4900\n"
          ]
        },
        {
          "data": {
            "text/plain": [
              "<keras.src.callbacks.History at 0x7f5e3441b820>"
            ]
          },
          "execution_count": 15,
          "metadata": {},
          "output_type": "execute_result"
        }
      ],
      "source": [
        "from keras.models import Sequential\n",
        "from keras.layers import Dense\n",
        "\n",
        "# Define the model architecture\n",
        "model = Sequential([\n",
        "    Dense(64, activation='relu', input_dim=6),\n",
        "    Dense(64, activation='relu'),\n",
        "    Dense(1, activation='sigmoid')\n",
        "])\n",
        "\n",
        "# Compile the model\n",
        "model.compile(optimizer='adam', loss='binary_crossentropy', metrics=['accuracy'])\n",
        "\n",
        "# Train the model\n",
        "model.fit(X_train, y_train, epochs=10, batch_size=32, validation_split=0.2)\n"
      ]
    },
    {
      "cell_type": "markdown",
      "metadata": {
        "id": "8TP4iaLRqbfD"
      },
      "source": [
        "#Predict next day high"
      ]
    },
    {
      "cell_type": "code",
      "execution_count": 16,
      "metadata": {
        "colab": {
          "base_uri": "https://localhost:8080/"
        },
        "id": "91v84cQ4YLu6",
        "outputId": "c0fff34d-c8d9-4754-cf13-6e7f8ac7e4a7"
      },
      "outputs": [],
      "source": [
        "from sklearn.preprocessing import MinMaxScaler\n",
        "import numpy as np\n",
        "\n",
        "# Your original array\n",
        "last_row_features = df.drop(columns=['Target']).iloc[-1]\n",
        "last_row_features_array = np.array(last_row_features)\n",
        "\n",
        "# Reshape the array to a 2D array (required by MinMaxScaler)\n",
        "last_row_features_array = last_row_features_array.reshape(-1, 1)\n",
        "\n",
        "# Create the MinMaxScaler\n",
        "scaler = MinMaxScaler()\n",
        "\n",
        "# Fit and transform the data\n",
        "features_scaled_array = scaler.fit_transform(last_row_features_array)\n",
        "features_scaled_array_reshaped = features_scaled_array.reshape(1, -1)"
      ]
    },
    {
      "cell_type": "code",
      "execution_count": 17,
      "metadata": {},
      "outputs": [
        {
          "name": "stdout",
          "output_type": "stream",
          "text": [
            "1/1 [==============================] - 0s 72ms/step\n",
            "Predicted Market High Indicator for the Next Day: 1\n"
          ]
        }
      ],
      "source": [
        "# Make predictions\n",
        "next_day_prediction = model.predict(features_scaled_array_reshaped)\n",
        "\n",
        "# Convert the prediction to binary (0 or 1)\n",
        "next_day_prediction_binary = 1 if next_day_prediction > 0.5 else 0\n",
        "\n",
        "print(\"Predicted Market High Indicator for the Next Day:\", next_day_prediction_binary)\n"
      ]
    },
    {
      "cell_type": "markdown",
      "metadata": {
        "id": "j_HWO0L3YrKA"
      },
      "source": []
    },
    {
      "cell_type": "code",
      "execution_count": 20,
      "metadata": {
        "id": "fWvsrLwxWLJW"
      },
      "outputs": [],
      "source": [
        "# from sklearn.linear_model import LogisticRegression\n",
        "\n",
        "# # Initialize the Logistic Regression model\n",
        "# model = LogisticRegression()\n",
        "\n",
        "# # Train the model on the training data\n",
        "# model.fit(X_train, y_train)\n",
        "\n",
        "# # Once trained, you can use the model to make predictions on the test data\n",
        "# y_pred = model.predict(X_test)\n",
        "\n"
      ]
    },
    {
      "cell_type": "code",
      "execution_count": 19,
      "metadata": {
        "id": "V0giVFT8WNZA"
      },
      "outputs": [],
      "source": [
        "# from sklearn.metrics import accuracy_score\n",
        "\n",
        "# # Calculate accuracy score\n",
        "# accuracy = accuracy_score(y_test, y_pred)\n",
        "# print(\"Accuracy:\", accuracy)\n"
      ]
    },
    {
      "cell_type": "code",
      "execution_count": 18,
      "metadata": {
        "id": "cv3mTsvJWmR3"
      },
      "outputs": [],
      "source": [
        "# # Extract features from the last row of your dataset\n",
        "# last_row_features = df.drop(columns=['Market_High_Indicator']).iloc[-1]\n",
        "\n",
        "# # Reshape the features array as scikit-learn expects a 2D array\n",
        "# last_row_features = last_row_features.values.reshape(1, -1)\n",
        "\n",
        "# # Predict the next day's market high indicator\n",
        "# next_day_prediction = model.predict(last_row_features)\n",
        "\n",
        "# print(\"Predicted Market High Indicator for the Next Day:\", next_day_prediction[0])\n"
      ]
    },
    {
      "cell_type": "code",
      "execution_count": 17,
      "metadata": {
        "id": "1Ho6ejZhXevW"
      },
      "outputs": [],
      "source": [
        "# # Predict the next day's market high indicator\n",
        "# last_row_features = df.drop(columns=['Market_High_Indicator']).iloc[-1]\n",
        "# last_row_features = last_row_features.values.reshape(1, -1)\n",
        "# next_day_prediction = model.predict(last_row_features)\n",
        "\n",
        "# # Convert the prediction to binary (0 or 1)\n",
        "# next_day_prediction_binary = 1 if next_day_prediction > 0.5 else 0\n",
        "\n",
        "# print(\"Predicted Market High Indicator for the Next Day:\", next_day_prediction_binary)\n"
      ]
    },
    {
      "cell_type": "code",
      "execution_count": null,
      "metadata": {
        "id": "1tA8pYAtqhVN"
      },
      "outputs": [],
      "source": []
    }
  ],
  "metadata": {
    "colab": {
      "include_colab_link": true,
      "provenance": []
    },
    "kernelspec": {
      "display_name": "Python 3",
      "name": "python3"
    },
    "language_info": {
      "codemirror_mode": {
        "name": "ipython",
        "version": 3
      },
      "file_extension": ".py",
      "mimetype": "text/x-python",
      "name": "python",
      "nbconvert_exporter": "python",
      "pygments_lexer": "ipython3",
      "version": "3.10.13"
    }
  },
  "nbformat": 4,
  "nbformat_minor": 0
}
